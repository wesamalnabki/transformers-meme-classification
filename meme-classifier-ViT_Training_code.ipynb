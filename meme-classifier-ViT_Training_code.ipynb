{
 "cells": [
  {
   "cell_type": "code",
   "execution_count": 17,
   "id": "a77acf30",
   "metadata": {
    "scrolled": true
   },
   "outputs": [
    {
     "name": "stdout",
     "output_type": "stream",
     "text": [
      "Requirement already satisfied: datasets in c:\\users\\gvis\\anaconda3\\envs\\ner\\lib\\site-packages (2.8.0)\n",
      "Collecting tensorboard\n",
      "  Downloading tensorboard-2.11.2-py3-none-any.whl (6.0 MB)\n",
      "     ---------------------------------------- 6.0/6.0 MB 16.6 MB/s eta 0:00:00\n",
      "Requirement already satisfied: dill<0.3.7 in c:\\users\\gvis\\anaconda3\\envs\\ner\\lib\\site-packages (from datasets) (0.3.6)\n",
      "Requirement already satisfied: pyyaml>=5.1 in c:\\users\\gvis\\anaconda3\\envs\\ner\\lib\\site-packages (from datasets) (6.0)\n",
      "Requirement already satisfied: fsspec[http]>=2021.11.1 in c:\\users\\gvis\\anaconda3\\envs\\ner\\lib\\site-packages (from datasets) (2022.11.0)\n",
      "Requirement already satisfied: huggingface-hub<1.0.0,>=0.2.0 in c:\\users\\gvis\\anaconda3\\envs\\ner\\lib\\site-packages (from datasets) (0.10.1)\n",
      "Requirement already satisfied: packaging in c:\\users\\gvis\\anaconda3\\envs\\ner\\lib\\site-packages (from datasets) (21.3)\n",
      "Requirement already satisfied: pandas in c:\\users\\gvis\\anaconda3\\envs\\ner\\lib\\site-packages (from datasets) (1.5.1)\n",
      "Requirement already satisfied: pyarrow>=6.0.0 in c:\\users\\gvis\\anaconda3\\envs\\ner\\lib\\site-packages (from datasets) (10.0.1)\n",
      "Requirement already satisfied: numpy>=1.17 in c:\\users\\gvis\\anaconda3\\envs\\ner\\lib\\site-packages (from datasets) (1.23.4)\n",
      "Requirement already satisfied: aiohttp in c:\\users\\gvis\\anaconda3\\envs\\ner\\lib\\site-packages (from datasets) (3.8.3)\n",
      "Requirement already satisfied: requests>=2.19.0 in c:\\users\\gvis\\anaconda3\\envs\\ner\\lib\\site-packages (from datasets) (2.28.1)\n",
      "Requirement already satisfied: tqdm>=4.62.1 in c:\\users\\gvis\\anaconda3\\envs\\ner\\lib\\site-packages (from datasets) (4.64.1)\n",
      "Requirement already satisfied: multiprocess in c:\\users\\gvis\\anaconda3\\envs\\ner\\lib\\site-packages (from datasets) (0.70.14)\n",
      "Requirement already satisfied: responses<0.19 in c:\\users\\gvis\\anaconda3\\envs\\ner\\lib\\site-packages (from datasets) (0.18.0)\n",
      "Requirement already satisfied: xxhash in c:\\users\\gvis\\anaconda3\\envs\\ner\\lib\\site-packages (from datasets) (3.2.0)\n",
      "Collecting markdown>=2.6.8\n",
      "  Using cached Markdown-3.4.1-py3-none-any.whl (93 kB)\n",
      "Collecting google-auth<3,>=1.6.3\n",
      "  Downloading google_auth-2.16.0-py2.py3-none-any.whl (177 kB)\n",
      "     ---------------------------------------- 177.8/177.8 kB ? eta 0:00:00\n",
      "Collecting google-auth-oauthlib<0.5,>=0.4.1\n",
      "  Using cached google_auth_oauthlib-0.4.6-py2.py3-none-any.whl (18 kB)\n",
      "Requirement already satisfied: werkzeug>=1.0.1 in c:\\users\\gvis\\anaconda3\\envs\\ner\\lib\\site-packages (from tensorboard) (2.2.2)\n",
      "Collecting tensorboard-plugin-wit>=1.6.0\n",
      "  Using cached tensorboard_plugin_wit-1.8.1-py3-none-any.whl (781 kB)\n",
      "Collecting absl-py>=0.4\n",
      "  Downloading absl_py-1.4.0-py3-none-any.whl (126 kB)\n",
      "     ---------------------------------------- 126.5/126.5 kB ? eta 0:00:00\n",
      "Requirement already satisfied: wheel>=0.26 in c:\\users\\gvis\\anaconda3\\envs\\ner\\lib\\site-packages (from tensorboard) (0.37.1)\n",
      "Collecting protobuf<4,>=3.9.2\n",
      "  Using cached protobuf-3.20.3-cp38-cp38-win_amd64.whl (904 kB)\n",
      "Collecting tensorboard-data-server<0.7.0,>=0.6.0\n",
      "  Using cached tensorboard_data_server-0.6.1-py3-none-any.whl (2.4 kB)\n",
      "Requirement already satisfied: setuptools>=41.0.0 in c:\\users\\gvis\\anaconda3\\envs\\ner\\lib\\site-packages (from tensorboard) (63.4.1)\n",
      "Collecting grpcio>=1.24.3\n",
      "  Downloading grpcio-1.51.1-cp38-cp38-win_amd64.whl (3.7 MB)\n",
      "     ---------------------------------------- 3.7/3.7 MB 17.1 MB/s eta 0:00:00\n",
      "Requirement already satisfied: attrs>=17.3.0 in c:\\users\\gvis\\anaconda3\\envs\\ner\\lib\\site-packages (from aiohttp->datasets) (22.1.0)\n",
      "Requirement already satisfied: async-timeout<5.0,>=4.0.0a3 in c:\\users\\gvis\\anaconda3\\envs\\ner\\lib\\site-packages (from aiohttp->datasets) (4.0.2)\n",
      "Requirement already satisfied: charset-normalizer<3.0,>=2.0 in c:\\users\\gvis\\anaconda3\\envs\\ner\\lib\\site-packages (from aiohttp->datasets) (2.1.1)\n",
      "Requirement already satisfied: yarl<2.0,>=1.0 in c:\\users\\gvis\\anaconda3\\envs\\ner\\lib\\site-packages (from aiohttp->datasets) (1.8.2)\n",
      "Requirement already satisfied: frozenlist>=1.1.1 in c:\\users\\gvis\\anaconda3\\envs\\ner\\lib\\site-packages (from aiohttp->datasets) (1.3.3)\n",
      "Requirement already satisfied: multidict<7.0,>=4.5 in c:\\users\\gvis\\anaconda3\\envs\\ner\\lib\\site-packages (from aiohttp->datasets) (6.0.4)\n",
      "Requirement already satisfied: aiosignal>=1.1.2 in c:\\users\\gvis\\anaconda3\\envs\\ner\\lib\\site-packages (from aiohttp->datasets) (1.3.1)\n",
      "Collecting pyasn1-modules>=0.2.1\n",
      "  Using cached pyasn1_modules-0.2.8-py2.py3-none-any.whl (155 kB)\n",
      "Requirement already satisfied: six>=1.9.0 in c:\\users\\gvis\\anaconda3\\envs\\ner\\lib\\site-packages (from google-auth<3,>=1.6.3->tensorboard) (1.16.0)\n",
      "Collecting rsa<5,>=3.1.4\n",
      "  Using cached rsa-4.9-py3-none-any.whl (34 kB)\n",
      "Collecting cachetools<6.0,>=2.0.0\n",
      "  Downloading cachetools-5.2.1-py3-none-any.whl (9.3 kB)\n",
      "Collecting requests-oauthlib>=0.7.0\n",
      "  Using cached requests_oauthlib-1.3.1-py2.py3-none-any.whl (23 kB)\n",
      "Requirement already satisfied: typing-extensions>=3.7.4.3 in c:\\users\\gvis\\anaconda3\\envs\\ner\\lib\\site-packages (from huggingface-hub<1.0.0,>=0.2.0->datasets) (4.4.0)\n",
      "Requirement already satisfied: filelock in c:\\users\\gvis\\anaconda3\\envs\\ner\\lib\\site-packages (from huggingface-hub<1.0.0,>=0.2.0->datasets) (3.8.0)\n",
      "Requirement already satisfied: importlib-metadata>=4.4 in c:\\users\\gvis\\anaconda3\\envs\\ner\\lib\\site-packages (from markdown>=2.6.8->tensorboard) (5.0.0)\n",
      "Requirement already satisfied: pyparsing!=3.0.5,>=2.0.2 in c:\\users\\gvis\\anaconda3\\envs\\ner\\lib\\site-packages (from packaging->datasets) (3.0.9)\n",
      "Requirement already satisfied: certifi>=2017.4.17 in c:\\users\\gvis\\anaconda3\\envs\\ner\\lib\\site-packages (from requests>=2.19.0->datasets) (2022.9.24)\n",
      "Requirement already satisfied: idna<4,>=2.5 in c:\\users\\gvis\\anaconda3\\envs\\ner\\lib\\site-packages (from requests>=2.19.0->datasets) (3.4)\n",
      "Requirement already satisfied: urllib3<1.27,>=1.21.1 in c:\\users\\gvis\\anaconda3\\envs\\ner\\lib\\site-packages (from requests>=2.19.0->datasets) (1.26.12)\n",
      "Requirement already satisfied: colorama in c:\\users\\gvis\\anaconda3\\envs\\ner\\lib\\site-packages (from tqdm>=4.62.1->datasets) (0.4.5)\n",
      "Requirement already satisfied: MarkupSafe>=2.1.1 in c:\\users\\gvis\\anaconda3\\envs\\ner\\lib\\site-packages (from werkzeug>=1.0.1->tensorboard) (2.1.1)\n",
      "Requirement already satisfied: python-dateutil>=2.8.1 in c:\\users\\gvis\\anaconda3\\envs\\ner\\lib\\site-packages (from pandas->datasets) (2.8.2)\n",
      "Requirement already satisfied: pytz>=2020.1 in c:\\users\\gvis\\anaconda3\\envs\\ner\\lib\\site-packages (from pandas->datasets) (2022.6)\n",
      "Requirement already satisfied: zipp>=0.5 in c:\\users\\gvis\\anaconda3\\envs\\ner\\lib\\site-packages (from importlib-metadata>=4.4->markdown>=2.6.8->tensorboard) (3.10.0)\n",
      "Collecting pyasn1<0.5.0,>=0.4.6\n",
      "  Using cached pyasn1-0.4.8-py2.py3-none-any.whl (77 kB)\n",
      "Collecting oauthlib>=3.0.0\n",
      "  Using cached oauthlib-3.2.2-py3-none-any.whl (151 kB)\n",
      "Installing collected packages: tensorboard-plugin-wit, pyasn1, tensorboard-data-server, rsa, pyasn1-modules, protobuf, oauthlib, grpcio, cachetools, absl-py, requests-oauthlib, markdown, google-auth, google-auth-oauthlib, tensorboard\n",
      "Successfully installed absl-py-1.4.0 cachetools-5.2.1 google-auth-2.16.0 google-auth-oauthlib-0.4.6 grpcio-1.51.1 markdown-3.4.1 oauthlib-3.2.2 protobuf-3.20.3 pyasn1-0.4.8 pyasn1-modules-0.2.8 requests-oauthlib-1.3.1 rsa-4.9 tensorboard-2.11.2 tensorboard-data-server-0.6.1 tensorboard-plugin-wit-1.8.1\n"
     ]
    }
   ],
   "source": [
    "! pip install datasets tensorboard "
   ]
  },
  {
   "cell_type": "code",
   "execution_count": 5,
   "id": "b2589ff0",
   "metadata": {},
   "outputs": [],
   "source": [
    "#soruce \n",
    "# https://www.philschmid.de/image-classification-huggingface-transformers-keras\n",
    "\n",
    "# data:\n",
    "# https://www.kaggle.com/code/paultimothymooney/display-meme-data/data\n",
    "\n",
    "# meme dataset:\n",
    "# https://www.kaggle.com/code/paultimothymooney/display-meme-data/data\n",
    "\n",
    "\n",
    "\n",
    "import os\n",
    "import datasets\n",
    "\n",
    "def create_image_folder_dataset(root_path):\n",
    "    \"\"\"creates `Dataset` from image folder structure\"\"\"\n",
    "  \n",
    "    # get class names by folders names\n",
    "    _CLASS_NAMES= os.listdir(root_path)\n",
    "    # defines `datasets` features`\n",
    "    features=datasets.Features({\n",
    "        \"image_file_path\": datasets.Value(dtype='string'),\n",
    "        \"image\": datasets.Image(decode=True, id=None),\n",
    "        \"labels\": datasets.features.ClassLabel(names=_CLASS_NAMES),\n",
    "    })\n",
    "    # temp list holding datapoints for creation\n",
    "    img_data_files=[]\n",
    "    label_data_files=[]\n",
    "    image_file_paths=[]\n",
    "    # load images into list for creation\n",
    "    for img_class in os.listdir(root_path):\n",
    "        for img in os.listdir(os.path.join(root_path,img_class)):\n",
    "            \n",
    "            path_=os.path.join(root_path,img_class,img)\n",
    "            \n",
    "            img_data_files.append(path_)\n",
    "            label_data_files.append(img_class)\n",
    "            image_file_paths.append(path_)\n",
    "            \n",
    "    # create dataset\n",
    "    ds = datasets.Dataset.from_dict({\"image\":img_data_files,\"labels\":label_data_files, \"image_file_path\": image_file_paths},features=features)\n",
    "    return ds\n",
    "\n",
    "from PIL import Image\n",
    "\n",
    "def process_image(sample):\n",
    "    \n",
    "    im = sample['image']\n",
    "    \n",
    "    def resize_image(sample, new_width  = 224, new_height = 224):\n",
    "        return sample.resize((new_width, new_height), Image.ANTIALIAS)\n",
    "\n",
    "    def remove_transparency(sample, bg_colour=(255, 255, 255)):\n",
    "        \n",
    "        # Only process if image has transparency (http://stackoverflow.com/a/1963146)\n",
    "        if im.mode not in ('RGB'):# or (im.mode == 'P' and 'transparency' in im.info):\n",
    "\n",
    "            # Need to convert to RGBA if LA format due to a bug in PIL (http://stackoverflow.com/a/1963146)\n",
    "            alpha = im.convert('RGBA').split()[-1]\n",
    "\n",
    "            # Create a new background image of our matt color.\n",
    "            # Must be RGBA because paste requires both images have the same format\n",
    "            # (http://stackoverflow.com/a/8720632  and  http://stackoverflow.com/a/9459208)\n",
    "            bg = Image.new(\"RGB\", im.size, bg_colour + (255,))\n",
    "            bg.paste(im, mask=alpha)            \n",
    "            return bg\n",
    "        return sample\n",
    "    \n",
    "#     im = resize_image(im)\n",
    "    im = remove_transparency(im)\n",
    "    sample['image'] = im    \n",
    "    return sample"
   ]
  },
  {
   "cell_type": "code",
   "execution_count": 6,
   "id": "87672daf",
   "metadata": {},
   "outputs": [],
   "source": [
    "ds = create_image_folder_dataset(\"./meme_dataset/\")"
   ]
  },
  {
   "cell_type": "code",
   "execution_count": 7,
   "id": "48bc51f8",
   "metadata": {},
   "outputs": [
    {
     "data": {
      "text/plain": [
       "DatasetDict({\n",
       "    train: Dataset({\n",
       "        features: ['image', 'labels', 'image_file_path'],\n",
       "        num_rows: 5655\n",
       "    })\n",
       "    test: Dataset({\n",
       "        features: ['image', 'labels', 'image_file_path'],\n",
       "        num_rows: 998\n",
       "    })\n",
       "})"
      ]
     },
     "execution_count": 7,
     "metadata": {},
     "output_type": "execute_result"
    }
   ],
   "source": [
    "# test size will be 15% of train dataset\n",
    "test_size=.15\n",
    "\n",
    "ds = ds.shuffle().train_test_split(test_size=test_size)\n",
    "ds"
   ]
  },
  {
   "cell_type": "code",
   "execution_count": 8,
   "id": "7f3caf6e",
   "metadata": {},
   "outputs": [
    {
     "data": {
      "application/vnd.jupyter.widget-view+json": {
       "model_id": "35364ecf55ef490bae88543a4fc7a983",
       "version_major": 2,
       "version_minor": 0
      },
      "text/plain": [
       "  0%|          | 0/998 [00:00<?, ?ex/s]"
      ]
     },
     "metadata": {},
     "output_type": "display_data"
    },
    {
     "data": {
      "application/vnd.jupyter.widget-view+json": {
       "model_id": "f52b0302d46d4401809ac00d8ed5d53b",
       "version_major": 2,
       "version_minor": 0
      },
      "text/plain": [
       "  0%|          | 0/5655 [00:00<?, ?ex/s]"
      ]
     },
     "metadata": {},
     "output_type": "display_data"
    }
   ],
   "source": [
    "ds['test'] = ds['test'].map(process_image)\n",
    "ds['train'] = ds['train'].map(process_image)"
   ]
  },
  {
   "cell_type": "code",
   "execution_count": 9,
   "id": "f9bf69b0",
   "metadata": {},
   "outputs": [
    {
     "data": {
      "application/vnd.jupyter.widget-view+json": {
       "model_id": "528f63723a4b41ea885c82c92e4152d6",
       "version_major": 2,
       "version_minor": 0
      },
      "text/plain": [
       "Downloading:   0%|          | 0.00/160 [00:00<?, ?B/s]"
      ]
     },
     "metadata": {},
     "output_type": "display_data"
    },
    {
     "name": "stderr",
     "output_type": "stream",
     "text": [
      "C:\\Users\\GVIS\\anaconda3\\envs\\ner\\lib\\site-packages\\huggingface_hub\\file_download.py:123: UserWarning: `huggingface_hub` cache-system uses symlinks by default to efficiently store duplicated files but your machine does not support them in C:\\Users\\GVIS\\.cache\\huggingface\\hub. Caching files will still work but in a degraded version that might require more space on your disk. This warning can be disabled by setting the `HF_HUB_DISABLE_SYMLINKS_WARNING` environment variable. For more details, see https://huggingface.co/docs/huggingface_hub/how-to-cache#limitations.\n",
      "To support symlinks on Windows, you either need to activate Developer Mode or to run Python as an administrator. In order to see activate developer mode, see this article: https://docs.microsoft.com/en-us/windows/apps/get-started/enable-your-device-for-development\n",
      "  warnings.warn(message)\n"
     ]
    }
   ],
   "source": [
    "from transformers import ViTFeatureExtractor\n",
    "\n",
    "model_name_or_path = 'google/vit-base-patch16-224-in21k'\n",
    "# model_name_or_path = 'facebook/deit-base-distilled-patch16-224'\n",
    "feature_extractor = ViTFeatureExtractor.from_pretrained(model_name_or_path )"
   ]
  },
  {
   "cell_type": "code",
   "execution_count": 10,
   "id": "cdcab6e7",
   "metadata": {},
   "outputs": [],
   "source": [
    "def process_example(example):\n",
    "    inputs = feature_extractor(example['image'], return_tensors='pt')\n",
    "    inputs['labels'] = example['labels']\n",
    "    return inputs"
   ]
  },
  {
   "cell_type": "code",
   "execution_count": 11,
   "id": "1214360b",
   "metadata": {},
   "outputs": [],
   "source": [
    "def transform(example_batch):\n",
    "    # Take a list of PIL images and turn them to pixel values\n",
    "    inputs = feature_extractor([x for x in example_batch['image']], return_tensors='pt')\n",
    "\n",
    "    # Don't forget to include the labels!\n",
    "    inputs['labels'] = example_batch['labels']\n",
    "    return inputs\n",
    "\n",
    "prepared_ds = ds.with_transform(transform)"
   ]
  },
  {
   "cell_type": "code",
   "execution_count": 12,
   "id": "106720fb",
   "metadata": {},
   "outputs": [],
   "source": [
    "import torch\n",
    "\n",
    "def collate_fn(batch):\n",
    "    return {\n",
    "        'pixel_values': torch.stack([x['pixel_values'] for x in batch]),\n",
    "        'labels': torch.tensor([x['labels'] for x in batch])\n",
    "    }"
   ]
  },
  {
   "cell_type": "code",
   "execution_count": 13,
   "id": "03aa26af",
   "metadata": {},
   "outputs": [
    {
     "name": "stderr",
     "output_type": "stream",
     "text": [
      "C:\\Users\\GVIS\\AppData\\Local\\Temp\\ipykernel_7968\\2658681704.py:4: FutureWarning: load_metric is deprecated and will be removed in the next major version of datasets. Use 'evaluate.load' instead, from the new library 🤗 Evaluate: https://huggingface.co/docs/evaluate\n",
      "  metric = load_metric(\"f1\")\n"
     ]
    },
    {
     "data": {
      "application/vnd.jupyter.widget-view+json": {
       "model_id": "af6c96443e9f49cfb58bca9480a999e5",
       "version_major": 2,
       "version_minor": 0
      },
      "text/plain": [
       "Downloading builder script:   0%|          | 0.00/2.32k [00:00<?, ?B/s]"
      ]
     },
     "metadata": {},
     "output_type": "display_data"
    }
   ],
   "source": [
    "import numpy as np\n",
    "from datasets import load_metric\n",
    "\n",
    "metric = load_metric(\"f1\")\n",
    "def compute_metrics(p):\n",
    "    return metric.compute(predictions=np.argmax(p.predictions, axis=1), references=p.label_ids)"
   ]
  },
  {
   "cell_type": "code",
   "execution_count": 14,
   "id": "34279401",
   "metadata": {},
   "outputs": [
    {
     "data": {
      "application/vnd.jupyter.widget-view+json": {
       "model_id": "e4d03d1ab03243f99e0b9c94f32d3fbc",
       "version_major": 2,
       "version_minor": 0
      },
      "text/plain": [
       "Downloading:   0%|          | 0.00/502 [00:00<?, ?B/s]"
      ]
     },
     "metadata": {},
     "output_type": "display_data"
    },
    {
     "data": {
      "application/vnd.jupyter.widget-view+json": {
       "model_id": "1d14f24756d047bab93d631be78784f6",
       "version_major": 2,
       "version_minor": 0
      },
      "text/plain": [
       "Downloading:   0%|          | 0.00/346M [00:00<?, ?B/s]"
      ]
     },
     "metadata": {},
     "output_type": "display_data"
    },
    {
     "name": "stderr",
     "output_type": "stream",
     "text": [
      "Some weights of the model checkpoint at google/vit-base-patch16-224-in21k were not used when initializing ViTForImageClassification: ['pooler.dense.weight', 'pooler.dense.bias']\n",
      "- This IS expected if you are initializing ViTForImageClassification from the checkpoint of a model trained on another task or with another architecture (e.g. initializing a BertForSequenceClassification model from a BertForPreTraining model).\n",
      "- This IS NOT expected if you are initializing ViTForImageClassification from the checkpoint of a model that you expect to be exactly identical (initializing a BertForSequenceClassification model from a BertForSequenceClassification model).\n",
      "Some weights of ViTForImageClassification were not initialized from the model checkpoint at google/vit-base-patch16-224-in21k and are newly initialized: ['classifier.bias', 'classifier.weight']\n",
      "You should probably TRAIN this model on a down-stream task to be able to use it for predictions and inference.\n"
     ]
    }
   ],
   "source": [
    "from transformers import ViTForImageClassification\n",
    "\n",
    "labels = ds['train'].features['labels'].names\n",
    "\n",
    "model = ViTForImageClassification.from_pretrained(\n",
    "    model_name_or_path,\n",
    "    num_labels=len(labels),\n",
    "    id2label={str(i): c for i, c in enumerate(labels)},\n",
    "    label2id={c: str(i) for i, c in enumerate(labels)}\n",
    ")"
   ]
  },
  {
   "cell_type": "code",
   "execution_count": 15,
   "id": "76803c8a",
   "metadata": {},
   "outputs": [],
   "source": [
    "from transformers import TrainingArguments\n",
    "\n",
    "training_args = TrainingArguments(\n",
    "  output_dir=\"./vit-base-patch16-224-in21k-meme\",\n",
    "  per_device_train_batch_size=16,\n",
    "  evaluation_strategy=\"steps\",\n",
    "  num_train_epochs=4,\n",
    "  fp16=True,\n",
    "  save_steps=100,\n",
    "  eval_steps=100,\n",
    "  logging_steps=10,\n",
    "  learning_rate=2e-5,\n",
    "  save_total_limit=2,\n",
    "  remove_unused_columns=False,\n",
    "  push_to_hub=False,\n",
    "  report_to='tensorboard',\n",
    "  load_best_model_at_end=True,\n",
    ")"
   ]
  },
  {
   "cell_type": "code",
   "execution_count": 18,
   "id": "ff06cb87",
   "metadata": {},
   "outputs": [
    {
     "name": "stderr",
     "output_type": "stream",
     "text": [
      "Using cuda_amp half precision backend\n"
     ]
    }
   ],
   "source": [
    "from transformers import Trainer\n",
    "\n",
    "trainer = Trainer(\n",
    "    model=model,\n",
    "    args=training_args,\n",
    "    data_collator=collate_fn,\n",
    "    compute_metrics=compute_metrics,\n",
    "    train_dataset=prepared_ds[\"train\"],\n",
    "    eval_dataset=prepared_ds[\"test\"],\n",
    "    tokenizer=feature_extractor,\n",
    ")"
   ]
  },
  {
   "cell_type": "code",
   "execution_count": 19,
   "id": "6fd7497b",
   "metadata": {},
   "outputs": [
    {
     "name": "stderr",
     "output_type": "stream",
     "text": [
      "C:\\Users\\GVIS\\anaconda3\\envs\\ner\\lib\\site-packages\\transformers\\optimization.py:306: FutureWarning: This implementation of AdamW is deprecated and will be removed in a future version. Use the PyTorch implementation torch.optim.AdamW instead, or set `no_deprecation_warning=True` to disable this warning\n",
      "  warnings.warn(\n",
      "***** Running training *****\n",
      "  Num examples = 5655\n",
      "  Num Epochs = 4\n",
      "  Instantaneous batch size per device = 16\n",
      "  Total train batch size (w. parallel, distributed & accumulation) = 16\n",
      "  Gradient Accumulation steps = 1\n",
      "  Total optimization steps = 1416\n",
      "  Number of trainable parameters = 85800194\n"
     ]
    },
    {
     "data": {
      "text/html": [
       "\n",
       "    <div>\n",
       "      \n",
       "      <progress value='1416' max='1416' style='width:300px; height:20px; vertical-align: middle;'></progress>\n",
       "      [1416/1416 51:31, Epoch 4/4]\n",
       "    </div>\n",
       "    <table border=\"1\" class=\"dataframe\">\n",
       "  <thead>\n",
       " <tr style=\"text-align: left;\">\n",
       "      <th>Step</th>\n",
       "      <th>Training Loss</th>\n",
       "      <th>Validation Loss</th>\n",
       "      <th>F1</th>\n",
       "    </tr>\n",
       "  </thead>\n",
       "  <tbody>\n",
       "    <tr>\n",
       "      <td>100</td>\n",
       "      <td>0.138200</td>\n",
       "      <td>0.156566</td>\n",
       "      <td>0.952195</td>\n",
       "    </tr>\n",
       "    <tr>\n",
       "      <td>200</td>\n",
       "      <td>0.152600</td>\n",
       "      <td>0.127657</td>\n",
       "      <td>0.961460</td>\n",
       "    </tr>\n",
       "    <tr>\n",
       "      <td>300</td>\n",
       "      <td>0.079700</td>\n",
       "      <td>0.117153</td>\n",
       "      <td>0.959764</td>\n",
       "    </tr>\n",
       "    <tr>\n",
       "      <td>400</td>\n",
       "      <td>0.040500</td>\n",
       "      <td>0.096651</td>\n",
       "      <td>0.971202</td>\n",
       "    </tr>\n",
       "    <tr>\n",
       "      <td>500</td>\n",
       "      <td>0.123900</td>\n",
       "      <td>0.093541</td>\n",
       "      <td>0.970378</td>\n",
       "    </tr>\n",
       "    <tr>\n",
       "      <td>600</td>\n",
       "      <td>0.021300</td>\n",
       "      <td>0.085315</td>\n",
       "      <td>0.975952</td>\n",
       "    </tr>\n",
       "    <tr>\n",
       "      <td>700</td>\n",
       "      <td>0.024200</td>\n",
       "      <td>0.085416</td>\n",
       "      <td>0.976000</td>\n",
       "    </tr>\n",
       "    <tr>\n",
       "      <td>800</td>\n",
       "      <td>0.011700</td>\n",
       "      <td>0.086551</td>\n",
       "      <td>0.975952</td>\n",
       "    </tr>\n",
       "    <tr>\n",
       "      <td>900</td>\n",
       "      <td>0.040600</td>\n",
       "      <td>0.082886</td>\n",
       "      <td>0.977823</td>\n",
       "    </tr>\n",
       "    <tr>\n",
       "      <td>1000</td>\n",
       "      <td>0.023900</td>\n",
       "      <td>0.087334</td>\n",
       "      <td>0.975659</td>\n",
       "    </tr>\n",
       "    <tr>\n",
       "      <td>1100</td>\n",
       "      <td>0.008500</td>\n",
       "      <td>0.083236</td>\n",
       "      <td>0.977867</td>\n",
       "    </tr>\n",
       "    <tr>\n",
       "      <td>1200</td>\n",
       "      <td>0.010100</td>\n",
       "      <td>0.091581</td>\n",
       "      <td>0.977688</td>\n",
       "    </tr>\n",
       "    <tr>\n",
       "      <td>1300</td>\n",
       "      <td>0.007800</td>\n",
       "      <td>0.088430</td>\n",
       "      <td>0.977688</td>\n",
       "    </tr>\n",
       "    <tr>\n",
       "      <td>1400</td>\n",
       "      <td>0.014200</td>\n",
       "      <td>0.086955</td>\n",
       "      <td>0.977733</td>\n",
       "    </tr>\n",
       "  </tbody>\n",
       "</table><p>"
      ],
      "text/plain": [
       "<IPython.core.display.HTML object>"
      ]
     },
     "metadata": {},
     "output_type": "display_data"
    },
    {
     "name": "stderr",
     "output_type": "stream",
     "text": [
      "***** Running Evaluation *****\n",
      "  Num examples = 998\n",
      "  Batch size = 8\n",
      "Saving model checkpoint to ./vit-base-patch16-224-in21k-meme\\checkpoint-100\n",
      "Configuration saved in ./vit-base-patch16-224-in21k-meme\\checkpoint-100\\config.json\n",
      "Model weights saved in ./vit-base-patch16-224-in21k-meme\\checkpoint-100\\pytorch_model.bin\n",
      "Feature extractor saved in ./vit-base-patch16-224-in21k-meme\\checkpoint-100\\preprocessor_config.json\n",
      "***** Running Evaluation *****\n",
      "  Num examples = 998\n",
      "  Batch size = 8\n",
      "Saving model checkpoint to ./vit-base-patch16-224-in21k-meme\\checkpoint-200\n",
      "Configuration saved in ./vit-base-patch16-224-in21k-meme\\checkpoint-200\\config.json\n",
      "Model weights saved in ./vit-base-patch16-224-in21k-meme\\checkpoint-200\\pytorch_model.bin\n",
      "Feature extractor saved in ./vit-base-patch16-224-in21k-meme\\checkpoint-200\\preprocessor_config.json\n",
      "***** Running Evaluation *****\n",
      "  Num examples = 998\n",
      "  Batch size = 8\n",
      "Saving model checkpoint to ./vit-base-patch16-224-in21k-meme\\checkpoint-300\n",
      "Configuration saved in ./vit-base-patch16-224-in21k-meme\\checkpoint-300\\config.json\n",
      "Model weights saved in ./vit-base-patch16-224-in21k-meme\\checkpoint-300\\pytorch_model.bin\n",
      "Feature extractor saved in ./vit-base-patch16-224-in21k-meme\\checkpoint-300\\preprocessor_config.json\n",
      "Deleting older checkpoint [vit-base-patch16-224-in21k-meme\\checkpoint-100] due to args.save_total_limit\n",
      "***** Running Evaluation *****\n",
      "  Num examples = 998\n",
      "  Batch size = 8\n",
      "Saving model checkpoint to ./vit-base-patch16-224-in21k-meme\\checkpoint-400\n",
      "Configuration saved in ./vit-base-patch16-224-in21k-meme\\checkpoint-400\\config.json\n",
      "Model weights saved in ./vit-base-patch16-224-in21k-meme\\checkpoint-400\\pytorch_model.bin\n",
      "Feature extractor saved in ./vit-base-patch16-224-in21k-meme\\checkpoint-400\\preprocessor_config.json\n",
      "Deleting older checkpoint [vit-base-patch16-224-in21k-meme\\checkpoint-200] due to args.save_total_limit\n",
      "***** Running Evaluation *****\n",
      "  Num examples = 998\n",
      "  Batch size = 8\n",
      "Saving model checkpoint to ./vit-base-patch16-224-in21k-meme\\checkpoint-500\n",
      "Configuration saved in ./vit-base-patch16-224-in21k-meme\\checkpoint-500\\config.json\n",
      "Model weights saved in ./vit-base-patch16-224-in21k-meme\\checkpoint-500\\pytorch_model.bin\n",
      "Feature extractor saved in ./vit-base-patch16-224-in21k-meme\\checkpoint-500\\preprocessor_config.json\n",
      "Deleting older checkpoint [vit-base-patch16-224-in21k-meme\\checkpoint-300] due to args.save_total_limit\n",
      "***** Running Evaluation *****\n",
      "  Num examples = 998\n",
      "  Batch size = 8\n",
      "Saving model checkpoint to ./vit-base-patch16-224-in21k-meme\\checkpoint-600\n",
      "Configuration saved in ./vit-base-patch16-224-in21k-meme\\checkpoint-600\\config.json\n",
      "Model weights saved in ./vit-base-patch16-224-in21k-meme\\checkpoint-600\\pytorch_model.bin\n",
      "Feature extractor saved in ./vit-base-patch16-224-in21k-meme\\checkpoint-600\\preprocessor_config.json\n",
      "Deleting older checkpoint [vit-base-patch16-224-in21k-meme\\checkpoint-400] due to args.save_total_limit\n",
      "***** Running Evaluation *****\n",
      "  Num examples = 998\n",
      "  Batch size = 8\n",
      "Saving model checkpoint to ./vit-base-patch16-224-in21k-meme\\checkpoint-700\n",
      "Configuration saved in ./vit-base-patch16-224-in21k-meme\\checkpoint-700\\config.json\n",
      "Model weights saved in ./vit-base-patch16-224-in21k-meme\\checkpoint-700\\pytorch_model.bin\n",
      "Feature extractor saved in ./vit-base-patch16-224-in21k-meme\\checkpoint-700\\preprocessor_config.json\n",
      "Deleting older checkpoint [vit-base-patch16-224-in21k-meme\\checkpoint-500] due to args.save_total_limit\n",
      "***** Running Evaluation *****\n",
      "  Num examples = 998\n",
      "  Batch size = 8\n",
      "Saving model checkpoint to ./vit-base-patch16-224-in21k-meme\\checkpoint-800\n",
      "Configuration saved in ./vit-base-patch16-224-in21k-meme\\checkpoint-800\\config.json\n",
      "Model weights saved in ./vit-base-patch16-224-in21k-meme\\checkpoint-800\\pytorch_model.bin\n",
      "Feature extractor saved in ./vit-base-patch16-224-in21k-meme\\checkpoint-800\\preprocessor_config.json\n",
      "Deleting older checkpoint [vit-base-patch16-224-in21k-meme\\checkpoint-700] due to args.save_total_limit\n",
      "***** Running Evaluation *****\n",
      "  Num examples = 998\n",
      "  Batch size = 8\n",
      "Saving model checkpoint to ./vit-base-patch16-224-in21k-meme\\checkpoint-900\n",
      "Configuration saved in ./vit-base-patch16-224-in21k-meme\\checkpoint-900\\config.json\n",
      "Model weights saved in ./vit-base-patch16-224-in21k-meme\\checkpoint-900\\pytorch_model.bin\n",
      "Feature extractor saved in ./vit-base-patch16-224-in21k-meme\\checkpoint-900\\preprocessor_config.json\n",
      "Deleting older checkpoint [vit-base-patch16-224-in21k-meme\\checkpoint-600] due to args.save_total_limit\n",
      "***** Running Evaluation *****\n",
      "  Num examples = 998\n",
      "  Batch size = 8\n",
      "Saving model checkpoint to ./vit-base-patch16-224-in21k-meme\\checkpoint-1000\n",
      "Configuration saved in ./vit-base-patch16-224-in21k-meme\\checkpoint-1000\\config.json\n",
      "Model weights saved in ./vit-base-patch16-224-in21k-meme\\checkpoint-1000\\pytorch_model.bin\n",
      "Feature extractor saved in ./vit-base-patch16-224-in21k-meme\\checkpoint-1000\\preprocessor_config.json\n",
      "Deleting older checkpoint [vit-base-patch16-224-in21k-meme\\checkpoint-800] due to args.save_total_limit\n",
      "***** Running Evaluation *****\n",
      "  Num examples = 998\n",
      "  Batch size = 8\n",
      "Saving model checkpoint to ./vit-base-patch16-224-in21k-meme\\checkpoint-1100\n",
      "Configuration saved in ./vit-base-patch16-224-in21k-meme\\checkpoint-1100\\config.json\n",
      "Model weights saved in ./vit-base-patch16-224-in21k-meme\\checkpoint-1100\\pytorch_model.bin\n",
      "Feature extractor saved in ./vit-base-patch16-224-in21k-meme\\checkpoint-1100\\preprocessor_config.json\n",
      "Deleting older checkpoint [vit-base-patch16-224-in21k-meme\\checkpoint-1000] due to args.save_total_limit\n",
      "***** Running Evaluation *****\n",
      "  Num examples = 998\n",
      "  Batch size = 8\n",
      "Saving model checkpoint to ./vit-base-patch16-224-in21k-meme\\checkpoint-1200\n",
      "Configuration saved in ./vit-base-patch16-224-in21k-meme\\checkpoint-1200\\config.json\n",
      "Model weights saved in ./vit-base-patch16-224-in21k-meme\\checkpoint-1200\\pytorch_model.bin\n",
      "Feature extractor saved in ./vit-base-patch16-224-in21k-meme\\checkpoint-1200\\preprocessor_config.json\n",
      "Deleting older checkpoint [vit-base-patch16-224-in21k-meme\\checkpoint-1100] due to args.save_total_limit\n",
      "***** Running Evaluation *****\n",
      "  Num examples = 998\n",
      "  Batch size = 8\n",
      "Saving model checkpoint to ./vit-base-patch16-224-in21k-meme\\checkpoint-1300\n",
      "Configuration saved in ./vit-base-patch16-224-in21k-meme\\checkpoint-1300\\config.json\n",
      "Model weights saved in ./vit-base-patch16-224-in21k-meme\\checkpoint-1300\\pytorch_model.bin\n",
      "Feature extractor saved in ./vit-base-patch16-224-in21k-meme\\checkpoint-1300\\preprocessor_config.json\n",
      "Deleting older checkpoint [vit-base-patch16-224-in21k-meme\\checkpoint-1200] due to args.save_total_limit\n",
      "***** Running Evaluation *****\n",
      "  Num examples = 998\n",
      "  Batch size = 8\n",
      "Saving model checkpoint to ./vit-base-patch16-224-in21k-meme\\checkpoint-1400\n",
      "Configuration saved in ./vit-base-patch16-224-in21k-meme\\checkpoint-1400\\config.json\n",
      "Model weights saved in ./vit-base-patch16-224-in21k-meme\\checkpoint-1400\\pytorch_model.bin\n",
      "Feature extractor saved in ./vit-base-patch16-224-in21k-meme\\checkpoint-1400\\preprocessor_config.json\n",
      "Deleting older checkpoint [vit-base-patch16-224-in21k-meme\\checkpoint-1300] due to args.save_total_limit\n",
      "\n",
      "\n",
      "Training completed. Do not forget to share your model on huggingface.co/models =)\n",
      "\n",
      "\n",
      "Loading best model from ./vit-base-patch16-224-in21k-meme\\checkpoint-900 (score: 0.08288615196943283).\n",
      "Saving model checkpoint to ./vit-base-patch16-224-in21k-meme\n",
      "Configuration saved in ./vit-base-patch16-224-in21k-meme\\config.json\n",
      "Model weights saved in ./vit-base-patch16-224-in21k-meme\\pytorch_model.bin\n",
      "Feature extractor saved in ./vit-base-patch16-224-in21k-meme\\preprocessor_config.json\n"
     ]
    },
    {
     "name": "stdout",
     "output_type": "stream",
     "text": [
      "***** train metrics *****\n",
      "  epoch                    =          4.0\n",
      "  total_flos               = 1632486288GF\n",
      "  train_loss               =       0.0698\n",
      "  train_runtime            =   0:51:38.20\n",
      "  train_samples_per_second =        7.301\n",
      "  train_steps_per_second   =        0.457\n"
     ]
    }
   ],
   "source": [
    "train_results = trainer.train()\n",
    "trainer.save_model()\n",
    "trainer.log_metrics(\"train\", train_results.metrics)\n",
    "trainer.save_metrics(\"train\", train_results.metrics)\n",
    "trainer.save_state()"
   ]
  },
  {
   "cell_type": "code",
   "execution_count": 20,
   "id": "21c00042",
   "metadata": {},
   "outputs": [
    {
     "name": "stderr",
     "output_type": "stream",
     "text": [
      "***** Running Evaluation *****\n",
      "  Num examples = 998\n",
      "  Batch size = 8\n"
     ]
    },
    {
     "data": {
      "text/html": [
       "\n",
       "    <div>\n",
       "      \n",
       "      <progress value='125' max='125' style='width:300px; height:20px; vertical-align: middle;'></progress>\n",
       "      [125/125 00:31]\n",
       "    </div>\n",
       "    "
      ],
      "text/plain": [
       "<IPython.core.display.HTML object>"
      ]
     },
     "metadata": {},
     "output_type": "display_data"
    },
    {
     "name": "stdout",
     "output_type": "stream",
     "text": [
      "***** eval metrics *****\n",
      "  epoch                   =        4.0\n",
      "  eval_f1                 =     0.9778\n",
      "  eval_loss               =     0.0829\n",
      "  eval_runtime            = 0:00:32.32\n",
      "  eval_samples_per_second =     30.877\n",
      "  eval_steps_per_second   =      3.867\n"
     ]
    }
   ],
   "source": [
    "metrics = trainer.evaluate(prepared_ds['test'])\n",
    "trainer.log_metrics(\"eval\", metrics)\n",
    "trainer.save_metrics(\"eval\", metrics)"
   ]
  },
  {
   "cell_type": "code",
   "execution_count": 22,
   "id": "ce685e1c",
   "metadata": {},
   "outputs": [],
   "source": []
  },
  {
   "cell_type": "code",
   "execution_count": 5,
   "id": "8854d706",
   "metadata": {
    "scrolled": true
   },
   "outputs": [],
   "source": [
    "from transformers import ViTForImageClassification\n",
    "from transformers import ViTFeatureExtractor\n",
    "from PIL import Image\n",
    "\n",
    "\n",
    "feature_extractor = ViTFeatureExtractor.from_pretrained('./vit-base-patch16-224-in21k-meme')\n",
    "model = ViTForImageClassification.from_pretrained('./vit-base-patch16-224-in21k-meme')\n"
   ]
  },
  {
   "cell_type": "code",
   "execution_count": 40,
   "id": "ddd02604",
   "metadata": {},
   "outputs": [
    {
     "name": "stdout",
     "output_type": "stream",
     "text": [
      "Predicted class: nomeme  with prediction score: 0.9702327251434326\n"
     ]
    }
   ],
   "source": [
    "image = Image.open('./examples/322715824_889438175516307_5513650897881487462_n.jpg')\n",
    "inputs = feature_extractor(images=image, return_tensors=\"pt\")\n",
    "outputs = model(**inputs)\n",
    "logits = outputs.logits\n",
    "# model predicts one of the 1000 ImageNet classes\n",
    "conf_score  = max(logits.softmax(-1).tolist()[0])\n",
    "predicted_class_idx = logits.argmax(-1).item()\n",
    "print(\"Predicted class:\", model.config.id2label[predicted_class_idx], ' with prediction score:', conf_score)\n",
    "\n"
   ]
  }
 ],
 "metadata": {
  "kernelspec": {
   "display_name": "Python 3 (ipykernel)",
   "language": "python",
   "name": "python3"
  },
  "language_info": {
   "codemirror_mode": {
    "name": "ipython",
    "version": 3
   },
   "file_extension": ".py",
   "mimetype": "text/x-python",
   "name": "python",
   "nbconvert_exporter": "python",
   "pygments_lexer": "ipython3",
   "version": "3.8.13"
  }
 },
 "nbformat": 4,
 "nbformat_minor": 5
}
